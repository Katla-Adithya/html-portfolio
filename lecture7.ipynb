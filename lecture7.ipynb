{
  "nbformat": 4,
  "nbformat_minor": 0,
  "metadata": {
    "colab": {
      "provenance": [],
      "authorship_tag": "ABX9TyMWA98I3hu01fQw9FrhRCuH",
      "include_colab_link": true
    },
    "kernelspec": {
      "name": "python3",
      "display_name": "Python 3"
    },
    "language_info": {
      "name": "python"
    }
  },
  "cells": [
    {
      "cell_type": "markdown",
      "metadata": {
        "id": "view-in-github",
        "colab_type": "text"
      },
      "source": [
        "<a href=\"https://colab.research.google.com/github/Katla-Adithya/html-portfolio/blob/main/lecture7.ipynb\" target=\"_parent\"><img src=\"https://colab.research.google.com/assets/colab-badge.svg\" alt=\"Open In Colab\"/></a>"
      ]
    },
    {
      "cell_type": "code",
      "execution_count": 1,
      "metadata": {
        "colab": {
          "base_uri": "https://localhost:8080/"
        },
        "id": "XkD4bcpxj1lY",
        "outputId": "c1a13254-f8e7-46ce-ffd1-0c0c0e24c7d7"
      },
      "outputs": [
        {
          "output_type": "stream",
          "name": "stdout",
          "text": [
            "140092862530064\n"
          ]
        }
      ],
      "source": [
        "a=10\n",
        "print(id(a))"
      ]
    },
    {
      "cell_type": "code",
      "source": [
        "b=10\n",
        "print(id(b))"
      ],
      "metadata": {
        "colab": {
          "base_uri": "https://localhost:8080/"
        },
        "id": "zXwQCTivkFd5",
        "outputId": "ed052015-e89c-4635-8e4a-fe8bf9169716"
      },
      "execution_count": 2,
      "outputs": [
        {
          "output_type": "stream",
          "name": "stdout",
          "text": [
            "140092862530064\n"
          ]
        }
      ]
    },
    {
      "cell_type": "code",
      "source": [
        "l= ['xyz', 20, 19, True]\n",
        "print(l[0])\n",
        "print(l[1])\n",
        "print(type(l))\n",
        "l[0]='zzz'\n",
        "print(l)\n",
        "\n"
      ],
      "metadata": {
        "colab": {
          "base_uri": "https://localhost:8080/"
        },
        "id": "qPrsfZpmne95",
        "outputId": "0e265f48-438a-4710-fd3e-ef56b4c020f7"
      },
      "execution_count": 5,
      "outputs": [
        {
          "output_type": "stream",
          "name": "stdout",
          "text": [
            "xyz\n",
            "20\n",
            "<class 'list'>\n",
            "['zzz', 20, 19, True]\n"
          ]
        }
      ]
    },
    {
      "cell_type": "code",
      "source": [
        "t = (\"xyz\", 20 , 1.9 , True)\n",
        "print(t[0])\n",
        "print(t[1])\n",
        "print(type(t))\n",
        "\n",
        "\n"
      ],
      "metadata": {
        "colab": {
          "base_uri": "https://localhost:8080/"
        },
        "id": "KsUi_FtmoO1q",
        "outputId": "b4f3f75b-7ac7-482a-860f-2be1ba6b0614"
      },
      "execution_count": 9,
      "outputs": [
        {
          "output_type": "stream",
          "name": "stdout",
          "text": [
            "xyz\n",
            "20\n",
            "<class 'tuple'>\n"
          ]
        }
      ]
    },
    {
      "cell_type": "code",
      "source": [
        "thisdict = {\n",
        "    \"name\" : 'xyz',\n",
        "    \"age\" : 22,\n",
        "    \"1 \"  :2\n",
        "\n",
        "}\n",
        "print(thisdict)\n",
        "thisdict[\"name\"] = 'zzz'\n",
        "print(thisdict)\n",
        "thisdict['color'] = 'grey'\n",
        "print(thisdict)"
      ],
      "metadata": {
        "colab": {
          "base_uri": "https://localhost:8080/"
        },
        "id": "LkwGPOJCsguh",
        "outputId": "aab3f320-8b68-4536-bf88-6f4a42e52b82"
      },
      "execution_count": 19,
      "outputs": [
        {
          "output_type": "stream",
          "name": "stdout",
          "text": [
            "{'name': 'xyz', 'age': 22, '1 ': 2}\n",
            "{'name': 'zzz', 'age': 22, '1 ': 2}\n",
            "{'name': 'zzz', 'age': 22, '1 ': 2, 'color': 'grey'}\n"
          ]
        }
      ]
    },
    {
      "cell_type": "code",
      "source": [
        "myset={\"apple\",\"banana\",\"cherry\"}\n",
        "print(myset)\n",
        "myset.add(\"orange\")"
      ],
      "metadata": {
        "colab": {
          "base_uri": "https://localhost:8080/"
        },
        "id": "lxgz6RQuvatz",
        "outputId": "3fdacf19-6bca-422c-b1d7-cdb2df595c01"
      },
      "execution_count": 21,
      "outputs": [
        {
          "output_type": "stream",
          "name": "stdout",
          "text": [
            "{'apple', 'cherry', 'banana'}\n"
          ]
        }
      ]
    },
    {
      "cell_type": "code",
      "source": [
        "myset=frozenset((1991 , 'xyz',78.56))\n",
        "print(myset)"
      ],
      "metadata": {
        "colab": {
          "base_uri": "https://localhost:8080/"
        },
        "id": "BuL0w19fzsgE",
        "outputId": "ac8471ae-bd42-4a12-e2ea-c9a58b6abca9"
      },
      "execution_count": 23,
      "outputs": [
        {
          "output_type": "stream",
          "name": "stdout",
          "text": [
            "frozenset({78.56, 'xyz', 1991})\n"
          ]
        }
      ]
    },
    {
      "cell_type": "markdown",
      "source": [
        "# New Section"
      ],
      "metadata": {
        "id": "kg4lWFHW11N4"
      }
    },
    {
      "cell_type": "markdown",
      "source": [
        "# New Section"
      ],
      "metadata": {
        "id": "usd2i5la12km"
      }
    }
  ]
}